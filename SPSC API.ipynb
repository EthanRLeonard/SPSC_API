{
 "cells": [
  {
   "cell_type": "code",
   "execution_count": 3,
   "id": "d9d15e54",
   "metadata": {},
   "outputs": [],
   "source": [
    "using HTTP\n",
    "using JSON\n",
    "using DataFrames"
   ]
  },
  {
   "cell_type": "code",
   "execution_count": 111,
   "id": "4e2f6806",
   "metadata": {},
   "outputs": [
    {
     "data": {
      "text/plain": [
       "apiCall (generic function with 2 methods)"
      ]
     },
     "execution_count": 111,
     "metadata": {},
     "output_type": "execute_result"
    }
   ],
   "source": [
    "function apiCall(url::String, features = \"title,remedy,hazard,consumerContact,URL,products,injuryReports\" )\n",
    "    r = HTTP.request(\"GET\",url)\n",
    "    b = String(r.body)\n",
    "    p = JSON.parse(b)\n",
    "    featureNames = split(features,\",\")\n",
    "    numFeatures = length(featureNames)\n",
    "    arrSetup = features * \" = \" * repeat(\"[],\",numFeatures)[1:end-1]\n",
    "    eval(Meta.parse(arrSetup))\n",
    "    #should look like this:\n",
    "    #title,remedy,hazard,consumerContact,url,products,injuryReports = [],[],[],[],[],[],[]\n",
    "    for i in 1:length(p)\n",
    "        try\n",
    "            push!(title,p[i][\"Title\"])\n",
    "        catch\n",
    "            push!(title,\"\")\n",
    "        end\n",
    "        try        \n",
    "            push!(remedy,p[i][\"RemedyOptions\"][1][\"Option\"])\n",
    "        catch\n",
    "            push!(remedy,\"\")\n",
    "        end\n",
    "        try   \n",
    "            push!(hazard,p[i][\"Hazards\"][1][\"Name\"])\n",
    "        catch\n",
    "            push!(hazard,\"\")\n",
    "        end\n",
    "        try\n",
    "            push!(consumerContact,p[i][\"ConsumerContact\"])\n",
    "        catch\n",
    "            push!(consumerContact,\"\")\n",
    "        end\n",
    "        try\n",
    "            push!(URL,p[i][\"URL\"])\n",
    "        catch\n",
    "            push!(URL,\"\")\n",
    "        end\n",
    "        try   \n",
    "            push!(products,p[i][\"Products\"][1][\"Name\"])\n",
    "        catch\n",
    "            push!(products,\"\")\n",
    "        end\n",
    "        try   \n",
    "            push!(injuryReports,p[i][\"Injuries\"][1][\"Name\"])\n",
    "        catch\n",
    "            push!(injuryReports,\"\")\n",
    "        end\n",
    "    end\n",
    "        comb = hcat(title,remedy,hazard,consumerContact,URL,products,injuryReports)\n",
    "        tab = DataFrame(comb,featureNames)\n",
    "end"
   ]
  },
  {
   "cell_type": "code",
   "execution_count": 127,
   "id": "842d8edd",
   "metadata": {},
   "outputs": [],
   "source": [
    "child = apiCall(\"http://www.saferproducts.gov/RestWebServices/Recall?format=json&RecallTitle=Child\");"
   ]
  },
  {
   "cell_type": "code",
   "execution_count": 131,
   "id": "a9daf0c9",
   "metadata": {},
   "outputs": [],
   "source": [
    "# for i in 1:length(p)\n",
    "# try\n",
    "#         println(p[i][\"RemedyOptions\"][1][\"Option\"])\n",
    "#     catch\n",
    "#         println(\"empty\")\n",
    "#     end\n",
    "# end"
   ]
  },
  {
   "cell_type": "code",
   "execution_count": 132,
   "id": "c77a30a9",
   "metadata": {},
   "outputs": [
    {
     "data": {
      "text/html": [
       "<div><div style = \"float: left;\"><span>10×7 DataFrame</span></div><div style = \"clear: both;\"></div></div><div class = \"data-frame\" style = \"overflow-x: scroll;\"><table class = \"data-frame\" style = \"margin-bottom: 6px;\"><thead><tr class = \"header\"><th class = \"rowNumber\" style = \"font-weight: bold; text-align: right;\">Row</th><th style = \"text-align: left;\">title</th><th style = \"text-align: left;\">remedy</th><th style = \"text-align: left;\">hazard</th><th style = \"text-align: left;\">consumerContact</th><th style = \"text-align: left;\">URL</th><th style = \"text-align: left;\">products</th><th style = \"text-align: left;\">injuryReports</th></tr><tr class = \"subheader headerLastRow\"><th class = \"rowNumber\" style = \"font-weight: bold; text-align: right;\"></th><th title = \"Union{Nothing, String}\" style = \"text-align: left;\">Union…</th><th title = \"Union{Nothing, String}\" style = \"text-align: left;\">Union…</th><th title = \"Union{Nothing, String}\" style = \"text-align: left;\">Union…</th><th title = \"Union{Nothing, String}\" style = \"text-align: left;\">Union…</th><th title = \"Union{Nothing, String}\" style = \"text-align: left;\">Union…</th><th title = \"Union{Nothing, String}\" style = \"text-align: left;\">Union…</th><th title = \"Union{Nothing, String}\" style = \"text-align: left;\">Union…</th></tr></thead><tbody><tr><td class = \"rowNumber\" style = \"font-weight: bold; text-align: right;\">1</td><td style = \"text-align: left;\">The Company Store Recalls Children&apos;s White Robes Due to Violation of Federal Flammability Standards and Burn Hazard; Sold Exclusively at thecompanystore.com (Recall Alert)</td><td style = \"text-align: left;\">Refund</td><td style = \"text-align: left;\">The recalled children&apos;s white robes fail to meet the federal flammability standards for children&apos;s sleepwear, posing a risk of burn injuries to children.</td><td style = \"text-align: left;\">The Company Store at 800-273-7702 from 7 a.m. to 9 p.m. CT Monday through Friday and 8:30 a.m. to 5 p.m. CT Saturday, or online at www.thecompanystore.com/faqs.html#product-recalls or www.thecompanystore.com and click on the &quot;Product Recalls&quot; link located under the &quot;Help&quot; link for more information.</td><td style = \"text-align: left;\">https://www.cpsc.gov/Recalls/2023/The-Company-Store-Recalls-Childrens-White-Robes-Due-to-Violation-of-Federal-Flammability-Standards-and-Burn-Hazard-Sold-Exclusively-at-thecompanystore-com-Recall-Alert</td><td style = \"text-align: left;\">Children&apos;s white robes</td><td style = \"text-align: left;\">None reported</td></tr><tr><td class = \"rowNumber\" style = \"font-weight: bold; text-align: right;\">2</td><td style = \"text-align: left;\">Bagno Milano Recalls Children&apos;s Robes Due to Violation of Federal Flammability Standards and Burn Hazard (Recall Alert)</td><td style = \"text-align: left;\">Refund</td><td style = \"text-align: left;\">The children&apos;s robes fail to meet the federal flammability standards for children&apos;s sleepwear, posing a risk of burn injuries to children.</td><td style = \"text-align: left;\">Bagno Milano at 800-655-3078 from 11 a.m. to 6 p.m. ET Monday through Friday, email at support@bagnomilanousa.com or online at https://www.bagnomilanousa.com/recall-information/ or www.bagnomilanousa.com and click on &quot;Recall Information&quot; at the top of the homepage for more information.</td><td style = \"text-align: left;\">https://www.cpsc.gov/Recalls/2023/Bagno-Milano-Recalls-Childrens-Robes-Due-to-Violation-of-Federal-Flammability-Standards-and-Burn-Hazard-Recall-Alert</td><td style = \"text-align: left;\">Children&apos;s robes</td><td style = \"text-align: left;\">None reported</td></tr><tr><td class = \"rowNumber\" style = \"font-weight: bold; text-align: right;\">3</td><td style = \"text-align: left;\">Lil Anglers Recalls Children&apos;s Fishing Rods Sold with Kid Casters No Tangle Combos Due to Violation of Federal Lead Content Ban</td><td style = \"text-align: left;\">Refund</td><td style = \"text-align: left;\">The fishing rods contain levels of lead that exceed the federal lead content ban. Lead is toxic if ingested by young children and can cause adverse health issues.</td><td style = \"text-align: left;\">Lil Anglers toll-free at 844-347-4543 from 8 a.m. to 4:30 p.m. CT Monday through Friday, email at info@anything-possible.com or online at https://www.kidcastersrecall.com or at https://profishiency.com/kidcasters and click on Recall Information on the top of the page for more information.</td><td style = \"text-align: left;\">https://www.cpsc.gov/Recalls/2023/Lil-Anglers-Recalls-Childrens-Fishing-Rods-Sold-with-Kid-Casters-No-Tangle-Combos-Due-to-Violation-of-Federal-Lead-Content-Ban</td><td style = \"text-align: left;\">Children&apos;s Fishing Rods sold with Kid Casters No Tangle Combos</td><td style = \"text-align: left;\">None reported</td></tr><tr><td class = \"rowNumber\" style = \"font-weight: bold; text-align: right;\">4</td><td style = \"text-align: left;\">NewCosplay Children&apos;s Sleepwear Recalled Due to Violation of Federal Flammability Standards and Burn Hazard; Imported by Changshu Lingshang Trading; Sold Exclusively at Amazon.com</td><td style = \"text-align: left;\">Refund</td><td style = \"text-align: left;\">The recalled children&apos;s sleepwear fails to meet the federal flammability standards for children&apos;s sleepwear, posing a risk of burn injuries to children.</td><td style = \"text-align: left;\">Changshu Lingshang Trading Co. LTD by email at chengye19642012@163.com or online at www.newcosplay.net/pages/product-recalls or www.newcosplay.net and click on &quot;PRODUCT RECALLS&quot; at the top of the page for more information.</td><td style = \"text-align: left;\">https://www.cpsc.gov/Recalls/2023/NewCosplay-Childrens-Sleepwear-Recalled-Due-to-Violation-of-Federal-Flammability-Standards-and-Burn-Hazard-Imported-by-Changshu-Lingshang-Trading-Sold-Exclusively-at-Amazon-com</td><td style = \"text-align: left;\">Children&apos;s sleepwear</td><td style = \"text-align: left;\">None reported</td></tr><tr><td class = \"rowNumber\" style = \"font-weight: bold; text-align: right;\">5</td><td style = \"text-align: left;\">NewCosplay Children&apos;s Sleepwear Recalled Due to Violation of Federal Flammability Standards and Burn Hazard; Imported by Taizhou Jiawang Trading Co.; Sold Exclusively at Amazon.com</td><td style = \"text-align: left;\">Refund</td><td style = \"text-align: left;\">The recalled children&apos;s sleepwear fails to meet the federal flammability standards for children&apos;s sleepwear, posing a risk of burn injuries to children.</td><td style = \"text-align: left;\">Taizhou Jiawang Trading Co. LTD by email at lingwushihao50@163.com or online at www.newcosplay.net/pages/product-recalls or www.newcosplay.net and click on &quot;PRODUCT RECALLS&quot; at the top of the page for more information.</td><td style = \"text-align: left;\">https://www.cpsc.gov/Recalls/2023/NewCosplay-Childrens-Sleepwear-Recalled-Due-to-Violation-of-Federal-Flammability-Standards-and-Burn-Hazard-Imported-by-Taizhou-Jiawang-Trading-Co-Sold-Exclusively-at-Amazon-com</td><td style = \"text-align: left;\">Children&apos;s sleepwear</td><td style = \"text-align: left;\">None reported</td></tr><tr><td class = \"rowNumber\" style = \"font-weight: bold; text-align: right;\">6</td><td style = \"text-align: left;\">Children&apos;s Bathrobes Recalled Due to Violation of Federal Flammability Standards and Burn Hazard; Imported by FunnyPaja; Sold Exclusively at Amazon.com (Recall Alert)</td><td style = \"text-align: left;\">Refund</td><td style = \"text-align: left;\">The recalled children&apos;s bathrobes fail to meet the federal flammability standards for children&apos;s sleepwear, posing a risk of burn injuries to children.</td><td style = \"text-align: left;\">Email FunnyPaja at yl198922@163.com.</td><td style = \"text-align: left;\">https://www.cpsc.gov/Recalls/2023/Childrens-Bathrobes-Recalled-Due-to-Violation-of-Federal-Flammability-Standards-and-Burn-Hazard-Imported-by-FunnyPaja-Sold-Exclusively-at-Amazon-com-Recall-Alert</td><td style = \"text-align: left;\">FunnyPaja Children&apos;s Bathrobes</td><td style = \"text-align: left;\">None reported</td></tr><tr><td class = \"rowNumber\" style = \"font-weight: bold; text-align: right;\">7</td><td style = \"text-align: left;\">Children&apos;s Nightgowns Recalled Due to Violation of Federal Flammability Standards and Burn Hazard; Imported by Arshiner; Sold Exclusively on Amazon.com (Recall Alert)</td><td style = \"text-align: left;\">Refund</td><td style = \"text-align: left;\">The children&apos;s nightgowns fail to meet federal flammability standards for children&apos;s sleepwear, posing a risk of burn injuries to children.</td><td style = \"text-align: left;\">Arshiner at 800-608-1432 Monday through Friday from 9 a.m. to 5 p.m. ET, except on holidays, email at arshiner.recall@gmail.com or online at https://arshiner.com/pages/product-recall-information or https://arshiner.com and click on &quot;Recall Information&quot; at the top of the homepage for more information.</td><td style = \"text-align: left;\">https://www.cpsc.gov/Recalls/2023/Childrens-Nightgowns-Recalled-Due-to-Violation-of-Federal-Flammability-Standards-and-Burn-Hazard-Imported-by-Arshiner-Sold-Exclusively-on-Amazon-com-Recall-Alert</td><td style = \"text-align: left;\">Arshiner Children&apos;s Nightgowns</td><td style = \"text-align: left;\">None reported</td></tr><tr><td class = \"rowNumber\" style = \"font-weight: bold; text-align: right;\">8</td><td style = \"text-align: left;\">Goumi Recalls Children&apos;s Robes Due to Violation of Federal Flammability Standards and Burn Hazard (Recall Alert)</td><td style = \"text-align: left;\">Replace</td><td style = \"text-align: left;\">The recalled children&apos;s robes fail to meet the federal flammability standards for children&apos;s sleepwear, posing a risk of burn injuries to children.</td><td style = \"text-align: left;\">Goumi toll-free at 855-464-6864 from 9 a.m. to 5 p.m. PT Monday through Friday, email at productrecall@goumikids.com or online at https://goumikids.com/pages/productrecall or https://goumikids.com/ and click on &quot;Product Recall&quot; the bottom of the homepage for more information.</td><td style = \"text-align: left;\">https://www.cpsc.gov/Recalls/2023/Goumi-Recalls-Childrens-Robes-Due-to-Violation-of-Federal-Flammability-Standards-and-Burn-Hazard-Recall-Alert</td><td style = \"text-align: left;\">Children&apos;s robes</td><td style = \"text-align: left;\">None reported</td></tr><tr><td class = \"rowNumber\" style = \"font-weight: bold; text-align: right;\">9</td><td style = \"text-align: left;\">Ecoxall Recalls Sodium Hydroxide Caustic Soda Beads and Potassium Hydroxide Flakes Due to Failure to Meet Child Resistant Packaging Requirements; Sold Exclusively on Amazon.com</td><td style = \"text-align: left;\">Refund</td><td style = \"text-align: left;\">The products contain sodium hydroxide or potassium hydroxide which must be in child resistant packaging, as required by the Poison Prevention Packaging Act (PPPA). The packaging of the products is not child resistant, posing a risk of chemical burns and irritation to the skin and eyes. In addition, the label on the product violates the Federal Hazardous Substance Act (FHSA) by omitting the word &quot;poison&quot; for poisonous chemicals.</td><td style = \"text-align: left;\">Ecoxall collect at 248-983-6760 from 9 a.m. to 3 p.m. ET Monday through Friday, email at EcoxallLLC@gmail.com or online at https://ecoxallchemical.com/pages/press-releases or www.EcoxallChemical.com and click on &quot;CLICK HERE FOR RECALL INFORMATION&quot; at the top of the page for more information.</td><td style = \"text-align: left;\">https://www.cpsc.gov/Recalls/2023/Ecoxall-Recalls-Sodium-Hydroxide-Caustic-Soda-Beads-and-Potassium-Hydroxide-Flakes-Due-to-Failure-to-Meet-Child-Resistant-Packaging-Requirements-Sold-Exclusively-on-Amazon-com</td><td style = \"text-align: left;\">Ecoxall Sodium and Potassium Hydroxide</td><td style = \"text-align: left;\">None reported</td></tr><tr><td class = \"rowNumber\" style = \"font-weight: bold; text-align: right;\">10</td><td style = \"text-align: left;\">Pfizer Recalls Nurtec ODT Prescription Drugs Due to Failure to Meet Child Resistant Packaging Requirement; Risk of Poisoning</td><td style = \"text-align: left;\">New Instructions</td><td style = \"text-align: left;\">The recalled prescription drugs must be in child resistant packaging as required by the Poison Prevention Packaging Act (PPPA). The packaging of the products is not child resistant, posing a risk of poisoning if the contents are swallowed by young children.</td><td style = \"text-align: left;\">Pfizer at 800-879-3477 Monday through Friday 9 a.m. to 7 p.m. ET, online at www.pfizer.com/contact or online at www.Nurtec.com/PackagingUpdate or www.Nurtec.com and click &quot;Recall to provide child resistant pouches to patients for storage of their medicine. Click for details&quot; for more information.</td><td style = \"text-align: left;\">https://www.cpsc.gov/Recalls/2023/Pfizer-Recalls-Nurtec-ODT-Prescription-Drugs-Due-to-Failure-to-Meet-Child-Resistant-Packaging-Requirement-Risk-of-Poisoning</td><td style = \"text-align: left;\">Nurtec® ODT (rimegepant) orally disintegrating tablets, 75mg 8-Unit Dose blister pack</td><td style = \"text-align: left;\">None reported</td></tr></tbody></table></div>"
      ],
      "text/latex": [
       "\\begin{tabular}{r|cc}\n",
       "\t& title & \\\\\n",
       "\t\\hline\n",
       "\t& Union… & \\\\\n",
       "\t\\hline\n",
       "\t1 & The Company Store Recalls Children's White Robes Due to Violation of Federal Flammability Standards and Burn Hazard; Sold Exclusively at thecompanystore.com (Recall Alert) & $\\dots$ \\\\\n",
       "\t2 & Bagno Milano Recalls Children's Robes Due to Violation of Federal Flammability Standards and Burn Hazard (Recall Alert) & $\\dots$ \\\\\n",
       "\t3 & Lil Anglers Recalls Children's Fishing Rods Sold with Kid Casters No Tangle Combos Due to Violation of Federal Lead Content Ban & $\\dots$ \\\\\n",
       "\t4 & NewCosplay Children's Sleepwear Recalled Due to Violation of Federal Flammability Standards and Burn Hazard; Imported by Changshu Lingshang Trading; Sold Exclusively at Amazon.com & $\\dots$ \\\\\n",
       "\t5 & NewCosplay Children's Sleepwear Recalled Due to Violation of Federal Flammability Standards and Burn Hazard; Imported by Taizhou Jiawang Trading Co.; Sold Exclusively at Amazon.com & $\\dots$ \\\\\n",
       "\t6 & Children's Bathrobes Recalled Due to Violation of Federal Flammability Standards and Burn Hazard; Imported by FunnyPaja; Sold Exclusively at Amazon.com (Recall Alert) & $\\dots$ \\\\\n",
       "\t7 & Children's Nightgowns Recalled Due to Violation of Federal Flammability Standards and Burn Hazard; Imported by Arshiner; Sold Exclusively on Amazon.com (Recall Alert) & $\\dots$ \\\\\n",
       "\t8 & Goumi Recalls Children's Robes Due to Violation of Federal Flammability Standards and Burn Hazard (Recall Alert) & $\\dots$ \\\\\n",
       "\t9 & Ecoxall Recalls Sodium Hydroxide Caustic Soda Beads and Potassium Hydroxide Flakes Due to Failure to Meet Child Resistant Packaging Requirements; Sold Exclusively on Amazon.com & $\\dots$ \\\\\n",
       "\t10 & Pfizer Recalls Nurtec ODT Prescription Drugs Due to Failure to Meet Child Resistant Packaging Requirement; Risk of Poisoning & $\\dots$ \\\\\n",
       "\\end{tabular}\n"
      ],
      "text/plain": [
       "\u001b[1m10×7 DataFrame\u001b[0m\n",
       "\u001b[1m Row \u001b[0m│\u001b[1m title                             \u001b[0m\u001b[1m remedy           \u001b[0m\u001b[1m hazard            \u001b[0m ⋯\n",
       "     │\u001b[90m Union…                            \u001b[0m\u001b[90m Union…           \u001b[0m\u001b[90m Union…            \u001b[0m ⋯\n",
       "─────┼──────────────────────────────────────────────────────────────────────────\n",
       "   1 │ The Company Store Recalls Childr…  Refund            The recalled child ⋯\n",
       "   2 │ Bagno Milano Recalls Children's …  Refund            The children's rob\n",
       "   3 │ Lil Anglers Recalls Children's F…  Refund            The fishing rods c\n",
       "   4 │ NewCosplay Children's Sleepwear …  Refund            The recalled child\n",
       "   5 │ NewCosplay Children's Sleepwear …  Refund            The recalled child ⋯\n",
       "   6 │ Children's Bathrobes Recalled Du…  Refund            The recalled child\n",
       "   7 │ Children's Nightgowns Recalled D…  Refund            The children's nig\n",
       "   8 │ Goumi Recalls Children's Robes D…  Replace           The recalled child\n",
       "   9 │ Ecoxall Recalls Sodium Hydroxide…  Refund            The products conta ⋯\n",
       "  10 │ Pfizer Recalls Nurtec ODT Prescr…  New Instructions  The recalled presc\n",
       "\u001b[36m                                                               5 columns omitted\u001b[0m"
      ]
     },
     "execution_count": 132,
     "metadata": {},
     "output_type": "execute_result"
    }
   ],
   "source": [
    "child[1:10,:]"
   ]
  }
 ],
 "metadata": {
  "kernelspec": {
   "display_name": "Julia 1.6.3",
   "language": "julia",
   "name": "julia-1.6"
  },
  "language_info": {
   "file_extension": ".jl",
   "mimetype": "application/julia",
   "name": "julia",
   "version": "1.6.3"
  }
 },
 "nbformat": 4,
 "nbformat_minor": 5
}
