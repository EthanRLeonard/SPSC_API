{
 "cells": [
  {
   "cell_type": "code",
   "execution_count": 1,
   "id": "4797ac67",
   "metadata": {},
   "outputs": [
    {
     "name": "stderr",
     "output_type": "stream",
     "text": [
      "\u001b[32m\u001b[1m    Updating\u001b[22m\u001b[39m registry at `C:\\Users\\ethan\\.julia\\registries\\General`\n",
      "\u001b[32m\u001b[1m    Updating\u001b[22m\u001b[39m git-repo `https://github.com/JuliaRegistries/General.git`\n",
      "\u001b[32m\u001b[1m   Resolving\u001b[22m\u001b[39m package versions...\n",
      "\u001b[32m\u001b[1m   Installed\u001b[22m\u001b[39m Snowball_jll ──────── v2.2.0+0\n",
      "\u001b[32m\u001b[1m   Installed\u001b[22m\u001b[39m StrTables ─────────── v1.0.1\n",
      "\u001b[32m\u001b[1m   Installed\u001b[22m\u001b[39m ConcurrentUtilities ─ v2.2.0\n",
      "\u001b[32m\u001b[1m   Installed\u001b[22m\u001b[39m OpenSSL ───────────── v1.4.1\n",
      "\u001b[32m\u001b[1m   Installed\u001b[22m\u001b[39m TranscodingStreams ── v0.9.13\n",
      "\u001b[32m\u001b[1m   Installed\u001b[22m\u001b[39m WordTokenizers ────── v0.5.6\n",
      "\u001b[32m\u001b[1m   Installed\u001b[22m\u001b[39m DataDeps ──────────── v0.7.10\n",
      "\u001b[32m\u001b[1m   Installed\u001b[22m\u001b[39m TextAnalysis ──────── v0.7.3\n",
      "\u001b[32m\u001b[1m   Installed\u001b[22m\u001b[39m OpenSSL_jll ───────── v3.0.8+0\n",
      "\u001b[32m\u001b[1m   Installed\u001b[22m\u001b[39m Snowball ──────────── v0.1.0\n",
      "\u001b[32m\u001b[1m   Installed\u001b[22m\u001b[39m HTML_Entities ─────── v1.0.1\n",
      "\u001b[32m\u001b[1m   Installed\u001b[22m\u001b[39m HTTP ──────────────── v1.9.0\n",
      "\u001b[32m\u001b[1m   Installed\u001b[22m\u001b[39m Languages ─────────── v0.4.3\n",
      "\u001b[32m\u001b[1m    Updating\u001b[22m\u001b[39m `C:\\Users\\ethan\\Project.toml`\n",
      " \u001b[90m [a2db99b7] \u001b[39m\u001b[92m+ TextAnalysis v0.7.3\u001b[39m\n",
      "\u001b[32m\u001b[1m    Updating\u001b[22m\u001b[39m `C:\\Users\\ethan\\Manifest.toml`\n",
      " \u001b[90m [d1d4a3ce] \u001b[39m\u001b[92m+ BitFlags v0.1.7\u001b[39m\n",
      " \u001b[90m [944b1d66] \u001b[39m\u001b[92m+ CodecZlib v0.7.1\u001b[39m\n",
      " \u001b[90m [f0e56b4a] \u001b[39m\u001b[92m+ ConcurrentUtilities v2.2.0\u001b[39m\n",
      " \u001b[90m [124859b0] \u001b[39m\u001b[92m+ DataDeps v0.7.10\u001b[39m\n",
      " \u001b[90m [7693890a] \u001b[39m\u001b[92m+ HTML_Entities v1.0.1\u001b[39m\n",
      " \u001b[90m [cd3eb016] \u001b[39m\u001b[92m+ HTTP v1.9.0\u001b[39m\n",
      " \u001b[90m [682c06a0] \u001b[39m\u001b[92m+ JSON v0.21.4\u001b[39m\n",
      " \u001b[90m [8ef0a80b] \u001b[39m\u001b[92m+ Languages v0.4.3\u001b[39m\n",
      " \u001b[90m [e6f89c97] \u001b[39m\u001b[92m+ LoggingExtras v1.0.0\u001b[39m\n",
      " \u001b[90m [739be429] \u001b[39m\u001b[92m+ MbedTLS v1.1.7\u001b[39m\n",
      " \u001b[90m [4d8831e6] \u001b[39m\u001b[92m+ OpenSSL v1.4.1\u001b[39m\n",
      " \u001b[90m [777ac1f9] \u001b[39m\u001b[92m+ SimpleBufferStream v1.1.0\u001b[39m\n",
      " \u001b[90m [fb8f903a] \u001b[39m\u001b[92m+ Snowball v0.1.0\u001b[39m\n",
      " \u001b[90m [9700d1a9] \u001b[39m\u001b[92m+ StrTables v1.0.1\u001b[39m\n",
      " \u001b[90m [a2db99b7] \u001b[39m\u001b[92m+ TextAnalysis v0.7.3\u001b[39m\n",
      " \u001b[90m [3bb67fe8] \u001b[39m\u001b[92m+ TranscodingStreams v0.9.13\u001b[39m\n",
      " \u001b[90m [5c2747f8] \u001b[39m\u001b[92m+ URIs v1.4.2\u001b[39m\n",
      " \u001b[90m [796a5d58] \u001b[39m\u001b[92m+ WordTokenizers v0.5.6\u001b[39m\n",
      " \u001b[90m [458c3c95] \u001b[39m\u001b[92m+ OpenSSL_jll v3.0.8+0\u001b[39m\n",
      " \u001b[90m [88f46535] \u001b[39m\u001b[92m+ Snowball_jll v2.2.0+0\u001b[39m\n",
      "\u001b[32m\u001b[1m    Building\u001b[22m\u001b[39m HTML_Entities → `C:\\Users\\ethan\\.julia\\scratchspaces\\44cfe95a-1eb2-52ea-b672-e2afdf69b78f\\c4144ed3bc5f67f595622ad03c0e39fa6c70ccc7\\build.log`\n",
      "\u001b[32m\u001b[1mPrecompiling\u001b[22m\u001b[39m project...\n",
      "\u001b[32m  ✓ \u001b[39m\u001b[90mConcurrentUtilities\u001b[39m\n",
      "\u001b[32m  ✓ \u001b[39m\u001b[90mHTML_Entities\u001b[39m\n",
      "\u001b[32m  ✓ \u001b[39m\u001b[90mSnowball_jll\u001b[39m\n",
      "\u001b[32m  ✓ \u001b[39m\u001b[90mOpenSSL_jll\u001b[39m\n",
      "\u001b[32m  ✓ \u001b[39m\u001b[90mTranscodingStreams\u001b[39m\n",
      "\u001b[32m  ✓ \u001b[39m\u001b[90mCodecZlib\u001b[39m\n",
      "\u001b[33m  ✓ \u001b[39m\u001b[90mJSON\u001b[39m\n",
      "\u001b[32m  ✓ \u001b[39m\u001b[90mOpenSSL\u001b[39m\n",
      "\u001b[32m  ✓ \u001b[39m\u001b[90mLanguages\u001b[39m\n",
      "\u001b[32m  ✓ \u001b[39m\u001b[90mHTTP\u001b[39m\n",
      "\u001b[32m  ✓ \u001b[39m\u001b[90mDataDeps\u001b[39m\n",
      "\u001b[32m  ✓ \u001b[39m\u001b[90mWordTokenizers\u001b[39m\n",
      "\u001b[32m  ✓ \u001b[39m\u001b[90mSnowball\u001b[39m\n",
      "\u001b[32m  ✓ \u001b[39mTextAnalysis\n",
      "  14 dependencies successfully precompiled in 25 seconds (185 already precompiled, 1 skipped during auto due to previous errors)\n",
      "  \u001b[33m1\u001b[39m dependency precompiled but a different version is currently loaded. Restart julia to access the new version\n",
      "\u001b[36m\u001b[1m[ \u001b[22m\u001b[39m\u001b[36m\u001b[1mInfo: \u001b[22m\u001b[39mPrecompiling TextAnalysis [a2db99b7-8b79-58f8-94bf-bbc811eef33d]\n"
     ]
    }
   ],
   "source": [
    "import Pkg\n",
    "Pkg.add(\"TextAnalysis\")\n",
    "using TextAnalysis"
   ]
  },
  {
   "cell_type": "code",
   "execution_count": 32,
   "id": "5673730f",
   "metadata": {},
   "outputs": [
    {
     "data": {
      "text/plain": [
       "create_Corpus (generic function with 1 method)"
      ]
     },
     "execution_count": 32,
     "metadata": {},
     "output_type": "execute_result"
    }
   ],
   "source": [
    "function create_Corpus(descs)\n",
    "    st = \"crps = Corpus([\"\n",
    "    t = \"StringDocument(\"\n",
    "    b = \"),\"\n",
    "    en = \"])\"\n",
    "    \n",
    "    for i in eachindex(descs)\n",
    "        st = st * t * \"descs[\" * \"$i\" *\"]\" * b\n",
    "    end\n",
    "    st = st * en\n",
    "    return eval(Meta.parse(st))\n",
    "end"
   ]
  },
  {
   "cell_type": "code",
   "execution_count": 39,
   "id": "8d9028b1",
   "metadata": {},
   "outputs": [
    {
     "data": {
      "text/plain": [
       "A 3 X 3 DocumentTermMatrix"
      ]
     },
     "execution_count": 39,
     "metadata": {},
     "output_type": "execute_result"
    }
   ],
   "source": [
    "descs = [\"may\",\"be\",\"not\"]  #must be named descs \n",
    "create_Corpus(descs) \n",
    "update_lexicon!(crps) #must be named crps\n",
    "lexicon(crps)\n",
    "m = DocumentTermMatrix(crps)"
   ]
  },
  {
   "cell_type": "code",
   "execution_count": 44,
   "id": "05b8d160",
   "metadata": {},
   "outputs": [],
   "source": [
    "using TextAnalysis: NaiveBayesClassifier, fit!, predict"
   ]
  },
  {
   "cell_type": "code",
   "execution_count": 47,
   "id": "28a88c67",
   "metadata": {},
   "outputs": [
    {
     "data": {
      "text/plain": [
       "NaiveBayesClassifier{Symbol}(String[], [:burn_risk, :toxicity_risk, :strangling_risk], Matrix{Int64}(undef, 0, 3))"
      ]
     },
     "execution_count": 47,
     "metadata": {},
     "output_type": "execute_result"
    }
   ],
   "source": [
    "model = NaiveBayesClassifier([:burn_risk,:strangling_risk,:toxicity_risk])"
   ]
  },
  {
   "cell_type": "code",
   "execution_count": 56,
   "id": "46f8175e",
   "metadata": {},
   "outputs": [
    {
     "data": {
      "text/plain": [
       "NaiveBayesClassifier{Symbol}([\"flammability\", \"sleepwear\", \"a\", \"for\", \"federal\", \",\", \"risk\", \"'\", \"s\", \".\"  …  \"must\", \"be\", \"resistant\", \"PPPA\", \"over-the-counter\", \"are\", \"products\", \"as\", \")\", \"which\"], [:burn_risk, :toxicity_risk, :strangling_risk], [3 1 1; 5 1 1; … ; 1 2 1; 1 2 1])"
      ]
     },
     "execution_count": 56,
     "metadata": {},
     "output_type": "execute_result"
    }
   ],
   "source": [
    "#one example of burn risk\n",
    "fit!(model,\n",
    "    \"The recalled children's sleepwear fails to meet \n",
    "    the federal flammability standards for children's sleepwear, \n",
    "    posing a risk of burn injuries to children.\",\n",
    "    :burn_risk)\n",
    "#one example of strangling risk\n",
    "fit!(model,\n",
    "    \"A young child can become entrapped by unzipping and entering the blanket,\n",
    "    posing a risk of death by asphyxiation.\",\n",
    "    :strangling_risk)\n",
    "#one example of toxicity risk\n",
    "fit!(model,\n",
    "\"The recalled over-the-counter products contain the regulated substance acetaminophen\n",
    "    which must be in child resistant packaging as required by the Poison Prevention\n",
    "    Packaging Act (PPPA). The packaging of the products is not child resistant,\n",
    "    posing a risk of poisoning if the contents are swallowed by young children.\",\n",
    "    :toxicity_risk)"
   ]
  },
  {
   "cell_type": "code",
   "execution_count": 57,
   "id": "be15bd36",
   "metadata": {},
   "outputs": [
    {
     "data": {
      "text/plain": [
       "Dict{Symbol, Float64} with 3 entries:\n",
       "  :burn_risk       => 1.0\n",
       "  :strangling_risk => 2.02292e-10\n",
       "  :toxicity_risk   => 1.39702e-11"
      ]
     },
     "execution_count": 57,
     "metadata": {},
     "output_type": "execute_result"
    }
   ],
   "source": [
    "#test a different description of burn damage \n",
    "predict(model,\"The children's robes fail to meet the federal flammability standards \n",
    "    for children's sleepwear, posing a risk of burn injuries to children.\")"
   ]
  },
  {
   "cell_type": "code",
   "execution_count": 58,
   "id": "4209722f",
   "metadata": {},
   "outputs": [
    {
     "data": {
      "text/plain": [
       "Dict{Symbol, Float64} with 3 entries:\n",
       "  :burn_risk       => 0.0034916\n",
       "  :strangling_risk => 0.777768\n",
       "  :toxicity_risk   => 0.21874"
      ]
     },
     "execution_count": 58,
     "metadata": {},
     "output_type": "execute_result"
    }
   ],
   "source": [
    "#test a different example of strangling risk\n",
    "predict(model,\"Young children can become entrapped in the space between \n",
    "    the exterior landing (hoistway) door and the interior elevator car\n",
    "    door or gate if there is a hazardous gap and suffer serious injuries \n",
    "    or death when the elevator is called to another floor.\")"
   ]
  },
  {
   "cell_type": "code",
   "execution_count": 59,
   "id": "c6dc517d",
   "metadata": {},
   "outputs": [
    {
     "data": {
      "text/plain": [
       "Dict{Symbol, Float64} with 3 entries:\n",
       "  :burn_risk       => 8.66389e-9\n",
       "  :strangling_risk => 2.28338e-6\n",
       "  :toxicity_risk   => 0.999998"
      ]
     },
     "execution_count": 59,
     "metadata": {},
     "output_type": "execute_result"
    }
   ],
   "source": [
    "#test a different example of toxicity risk\n",
    "predict(model,\"Surface paint on the desks and chairs contains\n",
    "    levels of lead that exceed the federal lead paint ban, \n",
    "    posing a lead poisoning hazard. The desks and chairs also \n",
    "    fail to comply with the federal lead content ban. \n",
    "    Lead is toxic if ingested by young children and can \n",
    "    cause adverse health effects.\")"
   ]
  }
 ],
 "metadata": {
  "kernelspec": {
   "display_name": "Julia 1.6.3",
   "language": "julia",
   "name": "julia-1.6"
  },
  "language_info": {
   "file_extension": ".jl",
   "mimetype": "application/julia",
   "name": "julia",
   "version": "1.6.3"
  }
 },
 "nbformat": 4,
 "nbformat_minor": 5
}
